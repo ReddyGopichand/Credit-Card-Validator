{
  "nbformat": 4,
  "nbformat_minor": 0,
  "metadata": {
    "colab": {
      "provenance": [],
      "authorship_tag": "ABX9TyNtjohuCQm7YD1WGc8nU8Tx",
      "include_colab_link": true
    },
    "kernelspec": {
      "name": "python3",
      "display_name": "Python 3"
    },
    "language_info": {
      "name": "python"
    }
  },
  "cells": [
    {
      "cell_type": "markdown",
      "metadata": {
        "id": "view-in-github",
        "colab_type": "text"
      },
      "source": [
        "<a href=\"https://colab.research.google.com/github/ReddyGopichand/Credit-Card-Validator/blob/main/Copy_of_today.ipynb\" target=\"_parent\"><img src=\"https://colab.research.google.com/assets/colab-badge.svg\" alt=\"Open In Colab\"/></a>"
      ]
    },
    {
      "cell_type": "code",
      "execution_count": null,
      "metadata": {
        "colab": {
          "base_uri": "https://localhost:8080/"
        },
        "id": "mR4GKraXjHH1",
        "outputId": "bb8d4fbf-f265-47d4-bb82-0779cdffa073"
      },
      "outputs": [
        {
          "output_type": "stream",
          "name": "stdout",
          "text": [
            "664 company results\n",
            "missed ['Aadhaar Venture', 'Aagam Capital', 'Aananda Lakshmi', 'Aarey Drugs', 'Abhinav Capital', 'Abhinav Leasing', 'Abhishek Corp', 'Abhishek Infra', 'ACE ENG', 'Adarsh Mercant', 'Add-Shop Promot', 'ADINATH TEXTILE', 'Adishakti Loha', 'Aditya Ispat', 'ADS Diagnostic ', 'Advik Labors', 'Ajwa Fun World', 'Alka India', 'Allied Computer', 'Alpine Hsg', 'Ambitious Plast', 'Amforge', 'Amsons Apparels', 'Anand Rayons', 'Ansal Buildwell', 'Apex Capital An', 'APL', 'Aptus Ind', 'ARC Finance', 'Ardi Investment', 'Arunjyoti Bio', 'Aryaman Fin Ser', 'AS&SBL', 'Ascensive', 'Ashika Credit', 'Ashutosh Paper ', 'Asia Capital', 'Asit C Mehta', 'ATN Int', 'Ausom Enterp', 'Automobile Prod', 'AVAILABLE FINAN', 'Avasara Finance', 'Axel Polymers', 'B P Capital', 'B Right Realest', 'Bambino Agro', 'Bangalore Fort', 'Bella Casa', 'Bentley Commerc', 'Bervin Invest', 'Beryl Drugs', 'Betex', 'Bhagyashree Lea', 'Bhakti Gems', 'Bharat Texts', 'Bhaskar Agroche', 'Bhatia Communic', 'Binny Mills', 'Bisil Plast', 'BITS', 'BKV Industries', 'Bloom Ind', 'Blue Pearl Texs', 'Blueblood Vent.', 'Bombay Talkies', 'BPL', 'Brawn Pharma', 'Burnpur Cement', 'Cargosol Log', 'Cargotrans Mari', 'Carnation Ind', 'Ceejay Finance', 'Cenlub', 'Centerac Tech', 'Channel Nine', 'Chartered Logis', 'Chase Bright', 'CHD Chemicals', 'Chitradurga', 'Choksi Imaging', 'Choksi Labs', 'CHPL Industries', 'Cistro Telelink', 'CM', 'Colab Cloud', 'Consecutive Inv', 'Containe Tech', 'Contech Soft', 'Continent Chem', 'Continental Sec', 'ContinentContro', 'Coral Newsprint', 'Crane Infra', 'Creative Cast.', 'CREDENT GLOBAL', 'Crimson Metal', 'Cubical Fin Ser', 'Cupid Trades', 'DAPS Advert.', 'Darshan Orna', 'Datiware Mariti', 'DCL', 'Deccan Poly', 'Deep Diamond', 'Deep Energy Res', 'Desh Rakshak', 'Devinsu Trad', 'Dhan Jeevan', 'Dhyaani Tile', 'Digjam', 'Diksat Transwor', 'Dolphin Medical', 'DRC Systems', 'DS Kulkarni', 'DS Sancheti Sec', 'Duke Offshore', 'Dynamic Archist', 'Dynamic Micro', 'Dynamic Portfol', 'Earum Pharmace', 'East West', 'ECML', 'Ecoboard Inds', 'ECS Biztech', 'Ekam Leasing', 'Elnet Tech', 'Emergent Ind', 'Empower India', 'EP Biocompo', 'EPIC Energy', 'EQUIPPP', 'ERP Soft System', 'Esha Media', 'Esquire Money', 'Evans Electric', 'EVERFIN', 'Evergreen Tex', 'Exhicon Events', 'Expo Gas Cont', 'F Mec Intl.', 'Family Care Hos', 'FCS Software', 'Fischer Inorg', 'Flomic Global', 'Flora Corporati', 'Foundry Fuel', 'Fourth Gen Info', 'Frontier Cap', 'Fruition Vent', 'Futuristic Sec', 'G K P Printing', 'G.D. Trading', 'Ganesh Films In', 'Gautam Exim', 'Gautam Gems', 'Gemstone Inv', 'Generic Eng', 'Genomic Valley', 'Gensol Engineer', 'Getalong Enter', 'Gini Silk Mills', 'Global Cap Mkts', 'Global Surfaces', 'Globe Commercia', 'Godavari Drugs', 'Goenka Business', 'Golden Legend', 'Goldstone Tech', 'Golechha Global', 'Goodyear', 'Gothi Plascon', 'Gravity India', 'Grovy India', 'GTV Engineering', 'Gufic Bio', 'Guj Ind Power', 'Guj Raffia Ind', 'Gujarat Hy-Spin', 'Gyan Developers', 'Hardwyn', 'Hawa Engineers', 'Healthy Invest', 'Heidelberg Cem', 'Hemadri Cement', 'Hemang Resource', 'Hemisphere', 'Himalaya Food ', 'Hind Adhesives', 'Hind Agrigen', 'Hindustan Housi', 'Hindustan Udyog', 'Hypersoft Techn', 'IEC Education', 'Impex FerroTech', 'Incredible Ind', 'India Lease Dev', 'Inditalia Refon', 'Indsoya', 'Indus Finance', 'Infronics Syst', 'Innocorp', 'Innovassynth', 'Innovators Faca', 'Interface Fin', 'Intl Data Mgmt', 'IODPL', 'IRCTC', 'Ishan Dyes', 'IVRCL', 'Jagjanani Text', 'Jagsonpal Fin', 'James Warren', 'Jay Ushin', 'Jaykay Enter', 'JCL', 'JCT', 'Jindal Capital', 'JJ Exporters', 'JLA Infraville', 'Jolly Plastic', 'Kallam Spinning', 'Kameshwari Ind', 'Kandagiri Spin', 'Kanel Ind', 'Kapil Cotex Ltd', 'Kashyap Tele', 'Kay Power', 'Kemistar Corp', 'Ken Financial', 'Kesar Petro', 'Khemani Distrib', 'Kings Infra', 'Kiran Print', 'KMC Speciality', 'Kohinoor Foods', 'Kore Foods', 'Kothari Petro', 'Kovai Medical', 'KPT Industries', 'Kumbhat Fin Ser', 'La Opala RG', 'La Tim Metal', 'Ladam Affordabl', 'Lakshmi Mills', 'Lambodhara Text', 'Landmarc Corp', 'Landmark Prop', 'Lasa Supergener', 'Last Mile Ent.', 'LCC Infotech', 'Linaks Micro', 'Link Pharmachem', 'Lorenzini Appar', 'Mackinnon Mack', 'Madhav Marbles', 'Mafia Trends', 'Magnum Ventures', 'Mahamaya Steel', 'Mahasagar Trav', 'Mahaveer Info', 'Mansi Financ', 'Mapro Ind', 'Mardia Samyoung', 'Margo Finance', 'Martin Burn Ltd', 'Mathew Easow', 'Max Alert Syste', 'Medico Intercon', 'Meglon Infra', 'Mehta Housing', 'Mena Mani Indus', 'Mercury Trade', 'MHAI', 'Microse India', 'Mid India Ind', 'Midwest Gold', 'Modern Thread', 'Modipon', 'Mohit Ind', 'Monte Carlo', 'Motor and Gen F', 'MSR India', 'Murudeshwar Cer', 'Nagreeka Cap', 'Nandan Denim', 'Narmada Agrobas', 'Narmada Macplas', 'National Oxygen', 'Naturite Agro', 'Navkar Urban.', 'Navoday Ent', 'Naysaa Sec', 'NCL Research', 'ND Metal', 'NDA Securities', 'Nexus Surgical', 'Nidhi Granites', 'Nimbus Projects', 'NINtec SYSTEMS ', 'Norben Tea', 'Nova Iron', 'Oasis Tradelink', 'Octal Credit', 'Octavius', 'Octaware Techno', 'Olympic Cards', 'Omega Ag-Seeds', 'Orient Trade', 'P M Telelinnks', 'Pagaria Energy', 'Pan India Corp', 'Pankaj Polymers', 'Paragon Finance', 'Parmeshwari Sil', 'Patspin India', 'Pearl Green Clu', 'Perfect-Octave', 'Pet Plastics', 'Pharmaids Pharm', 'Photoquip India', 'PMC Fincorp', 'POCL Enterprise', 'Poddar Pigments', 'Pondy Oxides', 'Popular Estate', 'Porwal Auto', 'Prabhav Ind', 'Prabhhans Ind', 'Prakash Woollen', 'Premier Synth', 'Premium Capital', 'Prima Plastics', 'Prism Finance', 'Promax Power', 'Purity Flex Pac', 'Pushpanjali Flo', 'Pyxis Finvest', 'QGO Finance Lim', 'Raaj Medisafe', 'Race Eco Chain', 'Radhika Jewel', 'Raideep Industr', 'Rajdarshan Ind', 'Rajeshwari', 'Rajputana Inves', 'Ramsons Project', 'Rapicut Carbide', 'Rasandik Engg', 'Ravinder Height', 'RCL Retail', 'Real Eco-Energy', 'Retina Paints', 'Revati Organics', 'Riba Textiles', 'Richfield Fin', 'Riddhi Synth', 'Rishi Techtex', 'Roopshri Resort', 'Rose Patel Merc', 'Royal Cushion', 'Ruchira Papers', 'SAB Events', 'Sabrimala Indd', 'Sagar Soya', 'Sai Industries ', 'Saianand Comm', 'SAL Steel', 'Salem Erode Inv', 'Salguti Ind', 'Samor Reality', 'SAMSRITA LABS', 'Samtel (India)', 'Samtex Fashions', 'Sancode Tech', 'Sanguine Media ', 'Sanmit Infra', 'Santosh Fine-Fa', 'Sanwaria Consum', 'Savant Infocomm', 'Sawaca Business', 'SBEC Systems', 'Scan Projects', 'Scarnose Intl.', 'Scooters India', 'SCSL', 'Sealmatic India', 'Seasons Furnish', 'Seasons Textile', 'Secunbad Health', 'Senthil Infotek', 'Shah Construct', 'Shahi Shipping', 'Shakti Press', 'Shalibhadra Fin', 'Sharad Fibres', 'Sharda Ispat', 'Shardul Sec', 'Shelter Infra', 'Sheraton Pro', 'Shivagrico Impl', 'Shree Bhavya', 'Shree Hanuman', 'Shree Rama News', 'Shree Steel Wir', 'Shreevat Fin', 'Shreyas Interme', 'Shri Gang Inds', 'Shri Jagdamba', 'Shri Rama Multi', 'Shukra Pharma', 'Shyama Infosys', 'Silver Touch Te', 'Sita Enterprise', 'SML Isuzu', 'Sofcom Systems', 'Solis Marketing', 'Sonal Adhesives', 'Soni Medicare', 'Source Ind', 'Speedage Commer', 'SRG Securities', 'Sri Lakshmi Tex', 'Standard Capita', 'Star Paper', 'Starlite Compo', 'Steel Exchange ', 'Stove Kraft', 'Sulabh Engineer', 'Sungold Capital', 'Sunil Ind', 'Sunraj Diamond', 'Sunshine Capita', 'Supan Syntech', 'Superior Finlea', 'Superior Ind', 'Suraj Products', 'Surya Funcity', 'Surya India', 'Suryaamba Spin', 'Suryalakshmi Co', 'Suryalata Spg', 'Suyog Gurbaxani', 'Svam Software', 'Svarnim Trade U', 'SVS Ventures', 'Switching Tech', 'Sword-Edge Comm', 'Symbiox Invest', 'Systematix Sec', 'Tai Industries', 'Tamil SteelTube', 'TCNS Clothing C', 'Texel Ind', 'TGV Sraac', 'Tijaria Polypip', 'Tine Agro', 'TIPSFILMS', 'Tirth Plastic', 'Tirupati Fin', 'Tirupati Tyres', 'Titan Secu', 'Trans Freight', 'Transglobe', 'Uday Jewellery', 'Unifinz Capital', 'Unijolly Invest', 'Unishire Urban', 'Unistar Multime', 'Univa Foods', 'UR SUGAR IND', 'Vadilal Enter', 'Valley Magnes.', 'Vama Ind', 'Vamshi Rubber', 'Vasundhara Ras', 'Vaswani Ind', 'Vedant Asset', 'Veer', 'Veeram Sec', 'Velan Hotels', 'Venus Remedies', 'Vikas EcoTec RE', 'Vikram Thermo', 'Vikshit Eng', 'Virat Crane', 'Virgo Global', 'Virtuoso Optoel', 'Visu Intl', 'Vivid Mercant', 'Wallfort Fin', 'Welcure Drugs', 'Western Ministi', 'Worldwide Alu', 'Yash Manage', 'Yashraj Contain', 'Zenith Health']\n",
            "[(1100, 'Elcid Investmen'), (794, 'Sunflag Iron'), (783, 'Ansal Housing'), (666, 'Winsome Yarns'), (450, 'MEP Infra'), (433, 'Nicco Parks'), (402, 'NFL'), (233, 'Speciality Rest'), (200, 'Career Point'), (127, 'NHPC'), (122, 'Lohia Sec'), (106, 'Prozone Intu'), (93, 'Bengal & Assam '), (83, 'Essar Shipping'), (74, 'Best Agrolife'), (73, 'Brooks Labs'), (72, 'Dhunseri Invest'), (70, 'Pilani Invest'), (68, 'Morarjee Text'), (66, 'VEDAVAAG System'), (66, 'Mangalam Seeds'), (66, 'BAG Films'), (58, 'Kilpest (I)'), (50, 'Medicamen Bio'), (47, 'Gallantt Ispat'), (47, 'ConfidencePetro'), (44, 'Campus Active'), (35, 'IST Ltd'), (33, 'Ndr Auto Compon'), (33, 'IMEC Services'), (32, 'NBCC (India)'), (22, 'Quintegra Solut'), (20, 'MTNL'), (18, 'Adani Trans'), (14, 'Arman Financial'), (13, 'Navkar Corp'), (13, 'AGI Infra'), (11, 'Techno Electric'), (10, 'MBL Infra'), (6, 'Vadilal Ind'), (5, 'Technocraft Ind'), (4, 'Rico Auto'), (2, 'Gayatri Highway'), (1, 'Asian Star'), (-2, 'Ipca Labs'), (-3, 'Allcargo'), (-5, 'ISGEC Heavy Eng'), (-6, 'Titan Biotech'), (-6, 'Time Techno'), (-7, 'Mallcom (India)'), (-11, 'Amarjothi Spin'), (-12, 'Shivalik Rasa'), (-15, 'Securekloud Tec'), (-15, 'Rail Vikas'), (-16, 'Sobha'), (-16, 'Jaypee Infra'), (-16, 'GTN Textiles'), (-18, 'Wim Plast'), (-18, 'Vijaya Diagnost'), (-20, 'Amines Plast'), (-23, 'Suprajit Eng'), (-23, 'Gokul Refoils'), (-23, 'Beekay Steel'), (-26, 'Ador Fontech'), (-27, 'TV Vision'), (-28, 'KNR Construct'), (-29, 'NIIT'), (-30, 'Hikal'), (-30, 'ANDHRSUGAR'), (-31, 'Veranda Learn'), (-31, 'Jamna Auto'), (-33, 'TCM'), (-33, 'Syncom Formula'), (-33, 'OnMobile Global'), (-33, 'Intrasoft Tech'), (-33, 'HLE Glascoat'), (-33, 'Deep Polymers L'), (-33, 'Acme Resources'), (-34, 'Cosmo First'), (-40, 'Rubfila Intl'), (-40, 'BCL Industries'), (-40, 'Asian Hotels'), (-41, 'Yuken India'), (-41, 'NOCIL'), (-44, 'Dynamatic Tech'), (-45, 'Pitti Engineeri'), (-45, 'Modern Insulato'), (-47, 'Kesar Terminals'), (-50, 'Texmo Pipes'), (-50, 'Sunil Health'), (-50, 'Kilitch Drugs'), (-52, 'Jindal PolyFilm'), (-52, 'Apollo Micro Sy'), (-53, 'HPL Electric & '), (-58, 'Eureka Forbes'), (-60, 'Privi Special'), (-66, 'United Drilling'), (-66, 'SMS Lifescience'), (-66, 'Inter Globe Fin'), (-66, 'Aimco Pesticide'), (-72, 'Commercial Syn '), (-76, 'Exxaro Tiles'), (-77, 'Jubilant Pharmo'), (-77, 'CHL'), (-79, 'Everest Kanto'), (-80, 'UCAL Fuel'), (-82, 'Jyoti Structure'), (-83, 'Shantanu Sheo'), (-84, 'Zee Media'), (-86, 'DCM'), (-88, 'Swelect Energy'), (-88, 'PBM Polytex'), (-93, 'Assoc Stone'), (-97, 'Sintex Plastics'), (-97, 'Ruchinfra'), (-97, 'Rel Capital'), (-98, 'Take Solutions'), (-98, 'Elpro Int'), (-99, 'Indian Card'), (-100, 'Viceroy Hotels'), (-100, 'VMS Industries'), (-100, 'Trade Wings'), (-100, 'Sundaram Multi'), (-100, 'Sahara One'), (-100, 'RR Metalmakers'), (-100, 'Lancor Holdings'), (-100, 'Krypton'), (-100, 'Camex'), (-100, 'Bal Pharma'), (-100, 'Assam'), (-103, 'Shah Alloys'), (-103, 'Force Motors'), (-105, 'Loyal Textiles'), (-108, 'Rattanindia Ent'), (-109, 'Hubtown'), (-121, 'Andrew Yule'), (-126, 'ITI'), (-130, 'Zenith SP&I'), (-133, 'Suvidhaa Info'), (-133, 'Simran Farms'), (-133, 'Raunaq EPC Int'), (-133, 'Anjani Finance'), (-138, 'Ind-Swift Labs'), (-140, 'RPP Infra Proj'), (-146, 'Diana Tea'), (-150, 'Riddhi Siddhi'), (-152, 'Genus Paper'), (-155, 'New India Assur'), (-164, 'Vibrant Global'), (-166, 'Globalspace Tec'), (-166, 'Asahi Songwon'), (-177, 'Alpa Labs'), (-200, 'Rammaica'), (-214, 'Torrent Power'), (-228, 'Williamson Mago'), (-233, 'KSS'), (-249, 'Bajaj Hindustha'), (-266, 'MSP Steel'), (-291, 'Emami Realty '), (-296, 'Eros Intl'), (-311, 'Sayaji Hotels'), (-323, 'Fermenta Bio'), (-392, 'Natco Pharma'), (-533, 'KCP Sugar'), (-806, 'Shirpur Gold'), (-1057, 'HLV'), (-6325, 'Visa Steel')] 167\n"
          ]
        }
      ],
      "source": [
        "import json\n",
        "import requests\n",
        "from bs4 import BeautifulSoup\n",
        "\n",
        "def avg_f(l):\n",
        "    if len(l) != 5:\n",
        "        raise Exception(\"not 5\")\n",
        "    base = l[-2]\n",
        "    recent_quarters = l[:3]\n",
        "    if base == 0:\n",
        "        return\n",
        "    per_inc = [(q-base)/base for q in recent_quarters]\n",
        "    return sum(per_inc)/len(per_inc)\n",
        "\n",
        "def get_net_profit(html_string):\n",
        "    soup = BeautifulSoup(html_string, 'html.parser')\n",
        "    tags = soup.select('#C-3-income-graphData')\n",
        "    tag = tags[0]\n",
        "    data = json.loads(tag.contents[0])\n",
        "    return data['net-profit']\n",
        "\n",
        "def get_company_scid(url):\n",
        "    html = requests.get(url).text\n",
        "    soup = BeautifulSoup(html, 'html.parser')\n",
        "    tags = soup.select('#ap_sc_id')\n",
        "    try:\n",
        "        return tags[0].get_attribute_list('value')\n",
        "    except:\n",
        "        return 'defaultscid'\n",
        "\n",
        "def get_companies(html_string):\n",
        "    soup = BeautifulSoup(html_string, 'html.parser')\n",
        "    selector = '.scroll-pane.MT5'\n",
        "    tags = soup.select(selector)\n",
        "    todays, tomorrows = tags[0], tags[1]\n",
        "    companies_list = []\n",
        "    for anchor in tomorrows.select('table tr td:first-child a'):\n",
        "        code = get_company_scid(anchor.get_attribute_list('href')[0])\n",
        "        if type(code) == list:\n",
        "            code = code[0]\n",
        "        company_name = anchor.contents[0]\n",
        "        companies_list.append((code,company_name))\n",
        "    return companies_list\n",
        "\n",
        "def get_url_content(url):\n",
        "    try:\n",
        "        response = requests.get(url)\n",
        "        if response.status_code == 200:\n",
        "            return response.text\n",
        "        else:\n",
        "            print(f'response code {response.status_code}')\n",
        "    except Exception as error_in_get_url_content:\n",
        "        print(\"error_in_get_url_content\",error_in_get_url_content)\n",
        "\n",
        "def main():\n",
        "    companies_url = 'https://www.moneycontrol.com/markets/earnings/?classic=true'\n",
        "    output_result = []\n",
        "    companies_list = get_companies(get_url_content(companies_url))\n",
        "    print(len(companies_list),'company results')\n",
        "    missed_companies_list = []\n",
        "    request_types=\"CS\"\n",
        "    for company_code, company_name in companies_list:\n",
        "        for request_type in request_types:\n",
        "            try:\n",
        "                url = 'https://www.moneycontrol.com/mc/widget/mcfinancials/getFinancialData?classic=true&referenceId=income&requestType='+request_type+'&scId='+company_code+'&frequency=3'\n",
        "                net_profit = [int(i) for i in get_net_profit(get_url_content(url))]\n",
        "                avg_inc = avg_f(net_profit)\n",
        "                if avg_inc:\n",
        "                    output_result.append((int(avg_inc*100),company_name))\n",
        "                break\n",
        "            except Exception as e:\n",
        "                continue\n",
        "        if len(output_result)==0 or output_result[-1][1]!=company_name:\n",
        "            missed_companies_list.append(company_name)\n",
        "    output_result.sort(reverse=True)\n",
        "    print(\"missed\",missed_companies_list)\n",
        "    print(output_result,len(output_result))\n",
        "main()"
      ]
    }
  ]
}