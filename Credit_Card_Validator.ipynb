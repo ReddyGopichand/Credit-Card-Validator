{
  "nbformat": 4,
  "nbformat_minor": 0,
  "metadata": {
    "colab": {
      "provenance": []
    },
    "kernelspec": {
      "name": "python3",
      "display_name": "Python 3"
    },
    "language_info": {
      "name": "python"
    }
  },
  "cells": [
    {
      "cell_type": "markdown",
      "source": [
        "# **Credit Card Validator**"
      ],
      "metadata": {
        "id": "zDykE7iks634"
      }
    },
    {
      "cell_type": "code",
      "execution_count": 2,
      "metadata": {
        "colab": {
          "base_uri": "https://localhost:8080/"
        },
        "id": "krxa8sbQs43n",
        "outputId": "f625e52e-6488-4c05-a473-47808ee626ac"
      },
      "outputs": [
        {
          "output_type": "stream",
          "name": "stdout",
          "text": [
            "Enter your Credit Card Number:- 1234123412341234\n",
            "The card number is not valid.\n"
          ]
        }
      ],
      "source": [
        "def is_valid_credit_card(card_number):\n",
        "    # First, check that the length is correct\n",
        "    if len(card_number) != 16:\n",
        "        return False\n",
        "    \"\"\" Calculate the sum of the digits,\n",
        "     taking every other digit starting from the second last\"\"\"\n",
        "    total = 0\n",
        "    for i in range(-2, -18, -2):\n",
        "        total += int(card_number[i])\n",
        "    \n",
        "    # Double every other digit starting from the last\n",
        "    for i in range(-1, -17, -2):\n",
        "        double = int(card_number[i]) * 2\n",
        "        if double > 9:\n",
        "            total += double - 9\n",
        "        else:\n",
        "            total += double\n",
        "    \n",
        "    # If the total is divisible by 10, the card number is valid\n",
        "    return total % 10 == 0\n",
        "card_number =input(\"Enter your Credit Card Number:- \")\n",
        "if is_valid_credit_card(card_number):\n",
        "    print(\"The card number is valid!\")\n",
        "else:\n",
        "    print(\"The card number is not valid.\")\n",
        "\n"
      ]
    }
  ]
}